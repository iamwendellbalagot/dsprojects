{
 "cells": [
  {
   "cell_type": "markdown",
   "metadata": {},
   "source": [
    "## OVERVIEW\n",
    "---\n",
    "* Image Preprocessing.\n",
    "* ResNet50 pretrained model to predict a Dog Breed.\n",
    "* OpenCV for image processing and showing results."
   ]
  },
  {
   "cell_type": "code",
   "execution_count": 76,
   "metadata": {},
   "outputs": [],
   "source": [
    "import numpy as np\n",
    "import matplotlib.pyplot as plt\n",
    "from tensorflow.python.keras.preprocessing.image import load_img, img_to_array\n",
    "from keras.applications.resnet50 import ResNet50\n",
    "from keras.applications.resnet50 import preprocess_input\n",
    "from keras.applications.imagenet_utils import decode_predictions\n",
    "import cv2"
   ]
  },
  {
   "cell_type": "code",
   "execution_count": 14,
   "metadata": {},
   "outputs": [],
   "source": [
    "#get image paths\n",
    "image_paths = ['img/img'+str(i)+'.jpg' for i in range(1,10)]"
   ]
  },
  {
   "cell_type": "markdown",
   "metadata": {},
   "source": [
    "#### IMAGE PROCESSING FUNCTION"
   ]
  },
  {
   "cell_type": "code",
   "execution_count": 15,
   "metadata": {},
   "outputs": [],
   "source": [
    "#image processing function\n",
    "def process_img(images_path, img_height = 224, img_width=224):\n",
    "    #convert image to 244 x 244\n",
    "    imgs = [load_img(img_path, target_size=(img_height, img_width)) for img_path in images_path]\n",
    "    #imge to array\n",
    "    img_array = np.array([img_to_array(img) for img in imgs])\n",
    "    output = preprocess_input(img_array)\n",
    "    return output"
   ]
  },
  {
   "cell_type": "markdown",
   "metadata": {},
   "source": [
    "#### LOAD THE PRE TRAINED MODEL"
   ]
  },
  {
   "cell_type": "code",
   "execution_count": 16,
   "metadata": {},
   "outputs": [],
   "source": [
    "#you can find this pretrained model on kaggle!\n",
    "model = ResNet50(weights = 'data/resnet50_weights_tf_dim_ordering_tf_kernels.h5')"
   ]
  },
  {
   "cell_type": "markdown",
   "metadata": {},
   "source": [
    "#### TEST THE MODEL"
   ]
  },
  {
   "cell_type": "code",
   "execution_count": 18,
   "metadata": {},
   "outputs": [],
   "source": [
    "#process the test images\n",
    "test_images = process_img(image_paths)"
   ]
  },
  {
   "cell_type": "code",
   "execution_count": 20,
   "metadata": {},
   "outputs": [
    {
     "data": {
      "text/plain": [
       "(9, 224, 224, 3)"
      ]
     },
     "execution_count": 20,
     "metadata": {},
     "output_type": "execute_result"
    }
   ],
   "source": [
    "#check the shape of array\n",
    "test_images.shape"
   ]
  },
  {
   "cell_type": "code",
   "execution_count": 21,
   "metadata": {},
   "outputs": [],
   "source": [
    "#predict the images\n",
    "predictions = model.predict(test_images)"
   ]
  },
  {
   "cell_type": "code",
   "execution_count": 48,
   "metadata": {},
   "outputs": [],
   "source": [
    "prediction_labels = decode_predictions(predictions, top=3)"
   ]
  },
  {
   "cell_type": "markdown",
   "metadata": {},
   "source": [
    "#### SHOW THE RESULTS OF PREDICTIVE MODEL BY USING OPENCV"
   ]
  },
  {
   "cell_type": "code",
   "execution_count": 172,
   "metadata": {},
   "outputs": [],
   "source": [
    "#font_style\n",
    "font = cv2.FONT_HERSHEY_SIMPLEX"
   ]
  },
  {
   "cell_type": "code",
   "execution_count": 179,
   "metadata": {},
   "outputs": [],
   "source": [
    "#display predictions\n",
    "def show_img(img):\n",
    "    #image resizing\n",
    "    scale_percent = 100 # percent of original size\n",
    "    width = int(test_images[img].shape[1] * scale_percent / 100)\n",
    "    height = int(test_images[img].shape[0] * scale_percent / 100)\n",
    "    dim = (width, height)\n",
    "    \n",
    "    #put text on the image\n",
    "    b_image = cv2.imread(image_paths[img])\n",
    "    b_image = cv2.resize(b_image, dim, interpolation = cv2.INTER_AREA)\n",
    "    cv2.putText(b_image, text=prediction_labels[img][0][1], org=(0, 200), fontFace=font, fontScale=0.5,color=(255,255,255), thickness=1,lineType=cv2.LINE_AA)\n",
    "\n",
    "    while True:\n",
    "        cv2.imshow('Result',b_image)\n",
    "        #use esc key on keybord to exit\n",
    "        if cv2.waitKey(1) & 0xFF ==27:\n",
    "            break\n",
    "\n",
    "    cv2.destroyAllWindows()"
   ]
  },
  {
   "cell_type": "code",
   "execution_count": 181,
   "metadata": {},
   "outputs": [],
   "source": [
    "#show the image\n",
    "show_img(2)"
   ]
  }
 ],
 "metadata": {
  "kernelspec": {
   "display_name": "Python 3",
   "language": "python",
   "name": "python3"
  },
  "language_info": {
   "codemirror_mode": {
    "name": "ipython",
    "version": 3
   },
   "file_extension": ".py",
   "mimetype": "text/x-python",
   "name": "python",
   "nbconvert_exporter": "python",
   "pygments_lexer": "ipython3",
   "version": "3.7.3"
  }
 },
 "nbformat": 4,
 "nbformat_minor": 2
}
